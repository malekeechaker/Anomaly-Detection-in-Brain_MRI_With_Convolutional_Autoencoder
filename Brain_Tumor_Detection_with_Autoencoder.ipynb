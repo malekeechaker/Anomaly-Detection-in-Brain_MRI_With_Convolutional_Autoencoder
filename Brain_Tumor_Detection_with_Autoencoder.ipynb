{
  "metadata": {
    "kernelspec": {
      "language": "python",
      "display_name": "Python 3",
      "name": "python3"
    },
    "language_info": {
      "name": "python",
      "version": "3.7.6",
      "mimetype": "text/x-python",
      "codemirror_mode": {
        "name": "ipython",
        "version": 3
      },
      "pygments_lexer": "ipython3",
      "nbconvert_exporter": "python",
      "file_extension": ".py"
    },
    "kaggle": {
      "accelerator": "nvidiaTeslaT4",
      "dataSources": [
        {
          "sourceId": 377107,
          "sourceType": "datasetVersion",
          "datasetId": 165566
        }
      ],
      "dockerImageVersionId": 30043,
      "isInternetEnabled": true,
      "language": "python",
      "sourceType": "notebook",
      "isGpuEnabled": true
    },
    "colab": {
      "name": "Brain Tumor Detection with Autoencoder",
      "provenance": [],
      "include_colab_link": true
    }
  },
  "nbformat_minor": 0,
  "nbformat": 4,
  "cells": [
    {
      "cell_type": "markdown",
      "metadata": {
        "id": "view-in-github",
        "colab_type": "text"
      },
      "source": [
        "<a href=\"https://colab.research.google.com/github/malekeechaker/Brain_MRI_With_Convolutional_Autoencoder/blob/develop/Brain_Tumor_Detection_with_Autoencoder.ipynb\" target=\"_parent\"><img src=\"https://colab.research.google.com/assets/colab-badge.svg\" alt=\"Open In Colab\"/></a>"
      ]
    },
    {
      "source": [
        "\n",
        "# IMPORTANT: RUN THIS CELL IN ORDER TO IMPORT YOUR KAGGLE DATA SOURCES\n",
        "# TO THE CORRECT LOCATION (/kaggle/input) IN YOUR NOTEBOOK,\n",
        "# THEN FEEL FREE TO DELETE THIS CELL.\n",
        "# NOTE: THIS NOTEBOOK ENVIRONMENT DIFFERS FROM KAGGLE'S PYTHON\n",
        "# ENVIRONMENT SO THERE MAY BE MISSING LIBRARIES USED BY YOUR\n",
        "# NOTEBOOK.\n",
        "\n",
        "import os\n",
        "import sys\n",
        "from tempfile import NamedTemporaryFile\n",
        "from urllib.request import urlopen\n",
        "from urllib.parse import unquote, urlparse\n",
        "from urllib.error import HTTPError\n",
        "from zipfile import ZipFile\n",
        "import tarfile\n",
        "import shutil\n",
        "\n",
        "CHUNK_SIZE = 40960\n",
        "DATA_SOURCE_MAPPING = 'brain-mri-images-for-brain-tumor-detection:https%3A%2F%2Fstorage.googleapis.com%2Fkaggle-data-sets%2F165566%2F377107%2Fbundle%2Farchive.zip%3FX-Goog-Algorithm%3DGOOG4-RSA-SHA256%26X-Goog-Credential%3Dgcp-kaggle-com%2540kaggle-161607.iam.gserviceaccount.com%252F20240527%252Fauto%252Fstorage%252Fgoog4_request%26X-Goog-Date%3D20240527T092059Z%26X-Goog-Expires%3D259200%26X-Goog-SignedHeaders%3Dhost%26X-Goog-Signature%3D5c9d586f4e9ed3e052b17ed4d76b2ef6aa43248a374299767b25590eff2f30ad6bdebd4266c4c20eef643b44575b171151748e345b646cf3ac5cddb980c3d234a33fc961388e20378fd69318d38906597e3e81fd63f1b5a36d81887ffa9fb2dffad833a12e892e33a7cf22dc32dd5546b9e7d766504c9ea8d507fcaba1be38821cc37f013efb5ffedd9e5f208286357b2c40cf9c3a1a10bedaba7d36b23412ea0a72c499d4b842d3a5823bfbb0f19fa30c11253f8bb5ca2f761367e70de9b6ff608e64401a3cc0aee784a4e184a46502ec19b4b3b8ee4338d496f5e18cffd29c094981ad6afa77abf13e127bb872409763e5452b45b16f1e11cdfc8d0078d799'\n",
        "\n",
        "KAGGLE_INPUT_PATH='/kaggle/input'\n",
        "KAGGLE_WORKING_PATH='/kaggle/working'\n",
        "KAGGLE_SYMLINK='kaggle'\n",
        "\n",
        "!umount /kaggle/input/ 2> /dev/null\n",
        "shutil.rmtree('/kaggle/input', ignore_errors=True)\n",
        "os.makedirs(KAGGLE_INPUT_PATH, 0o777, exist_ok=True)\n",
        "os.makedirs(KAGGLE_WORKING_PATH, 0o777, exist_ok=True)\n",
        "\n",
        "try:\n",
        "  os.symlink(KAGGLE_INPUT_PATH, os.path.join(\"..\", 'input'), target_is_directory=True)\n",
        "except FileExistsError:\n",
        "  pass\n",
        "try:\n",
        "  os.symlink(KAGGLE_WORKING_PATH, os.path.join(\"..\", 'working'), target_is_directory=True)\n",
        "except FileExistsError:\n",
        "  pass\n",
        "\n",
        "for data_source_mapping in DATA_SOURCE_MAPPING.split(','):\n",
        "    directory, download_url_encoded = data_source_mapping.split(':')\n",
        "    download_url = unquote(download_url_encoded)\n",
        "    filename = urlparse(download_url).path\n",
        "    destination_path = os.path.join(KAGGLE_INPUT_PATH, directory)\n",
        "    try:\n",
        "        with urlopen(download_url) as fileres, NamedTemporaryFile() as tfile:\n",
        "            total_length = fileres.headers['content-length']\n",
        "            print(f'Downloading {directory}, {total_length} bytes compressed')\n",
        "            dl = 0\n",
        "            data = fileres.read(CHUNK_SIZE)\n",
        "            while len(data) > 0:\n",
        "                dl += len(data)\n",
        "                tfile.write(data)\n",
        "                done = int(50 * dl / int(total_length))\n",
        "                sys.stdout.write(f\"\\r[{'=' * done}{' ' * (50-done)}] {dl} bytes downloaded\")\n",
        "                sys.stdout.flush()\n",
        "                data = fileres.read(CHUNK_SIZE)\n",
        "            if filename.endswith('.zip'):\n",
        "              with ZipFile(tfile) as zfile:\n",
        "                zfile.extractall(destination_path)\n",
        "            else:\n",
        "              with tarfile.open(tfile.name) as tarfile:\n",
        "                tarfile.extractall(destination_path)\n",
        "            print(f'\\nDownloaded and uncompressed: {directory}')\n",
        "    except HTTPError as e:\n",
        "        print(f'Failed to load (likely expired) {download_url} to path {destination_path}')\n",
        "        continue\n",
        "    except OSError as e:\n",
        "        print(f'Failed to load {download_url} to path {destination_path}')\n",
        "        continue\n",
        "\n",
        "print('Data source import complete.')\n"
      ],
      "metadata": {
        "id": "psnt_iSeWnEG"
      },
      "cell_type": "code",
      "outputs": [],
      "execution_count": null
    },
    {
      "cell_type": "markdown",
      "source": [
        "<div style=\"color:black;\n",
        "           display:fill;\n",
        "           border-radius:5px;\n",
        "           background-color:#9FA7BD;\n",
        "           font-size:110%;\n",
        "           font-family:Verdana;\n",
        "           letter-spacing:0.5px\">\n",
        "\n",
        "<h1 style=\"text-align: center;\n",
        "           padding: 10px;\n",
        "              color:black\">\n",
        "\n",
        "What is A brain tumor\n",
        "</h1>\n",
        "</div>"
      ],
      "metadata": {
        "id": "OrnmN0xHWnEL"
      }
    },
    {
      "cell_type": "markdown",
      "source": [
        "**1. Definition:**\n",
        "\n",
        "A brain tumor is an abnormal growth of cells within the brain or the central nervous system.\n",
        "\n",
        "**2. Types:**\n",
        "* Primary Brain Tumors: These originate in the brain or nearby structures. Examples include gliomas, meningiomas, astrocytomas, and medulloblastomas.\n",
        "* Secondary (Metastatic) Brain Tumors: These occur when cancer cells from other parts of the body (like the lungs, breast, or skin) spread to the brain.\n",
        "\n",
        "**3. Classification:**\n",
        "\n",
        "Tumors can be classified as benign (non-cancerous) or malignant (cancerous).\n",
        "* Benign tumors grow slowly and generally do not spread.\n",
        "* malignant tumors grow aggressively and can spread to other parts of the brain or body.\n",
        "\n",
        "**4. Symptoms:**\n",
        "\n",
        "Symptoms vary depending on the tumor's size, type, and location in the brain. Common symptoms include headaches, seizures, changes in vision or hearing, difficulty speaking, memory loss, personality changes, and motor skill impairments."
      ],
      "metadata": {
        "id": "I94mjdnaWnEO"
      }
    },
    {
      "cell_type": "code",
      "source": [
        "!pip install imutils\n",
        "!pip install tensorflow-probability\n"
      ],
      "metadata": {
        "_uuid": "d629ff2d2480ee46fbb7e2d37f6b5fab8052498a",
        "_cell_guid": "79c7e3d0-c299-4dcb-8224-4455121ee9b0",
        "execution": {
          "iopub.status.busy": "2024-05-26T21:52:54.836956Z",
          "iopub.execute_input": "2024-05-26T21:52:54.837296Z",
          "iopub.status.idle": "2024-05-26T21:53:10.280926Z",
          "shell.execute_reply.started": "2024-05-26T21:52:54.837251Z",
          "shell.execute_reply": "2024-05-26T21:53:10.27999Z"
        },
        "trusted": true,
        "id": "NBrbDmcFWnEQ"
      },
      "execution_count": null,
      "outputs": []
    },
    {
      "cell_type": "code",
      "source": [
        "import os\n",
        "import glob\n",
        "import numpy as np\n",
        "import pandas as pd\n",
        "from os import listdir\n",
        "import tensorflow as tf\n",
        "import cv2\n",
        "import matplotlib.pyplot as plt\n",
        "%matplotlib inline\n",
        "import imutils\n",
        "\n",
        "from sklearn.model_selection import train_test_split\n",
        "from tensorflow.keras.models import Model,load_model\n",
        "from tensorflow.keras.layers import Conv2D,Input,ZeroPadding2D,BatchNormalization,Flatten,Activation,Dense,MaxPooling2D, Cropping2D, Dropout, UpSampling2D\n",
        "from sklearn.utils import shuffle #shuffling the data improves the model\n",
        "from keras.preprocessing.image import ImageDataGenerator\n",
        "from keras.preprocessing import image\n",
        "from keras.optimizers import Adam\n",
        "from keras.callbacks import EarlyStopping\n",
        "from scipy.stats import mode\n",
        "import tensorflow as tf\n",
        "import tensorflow_probability as tfp\n",
        "from sklearn.metrics import accuracy_score, precision_score, recall_score, f1_score\n"
      ],
      "metadata": {
        "execution": {
          "iopub.status.busy": "2024-05-26T21:53:10.283412Z",
          "iopub.execute_input": "2024-05-26T21:53:10.283698Z",
          "iopub.status.idle": "2024-05-26T21:53:15.642204Z",
          "shell.execute_reply.started": "2024-05-26T21:53:10.283667Z",
          "shell.execute_reply": "2024-05-26T21:53:15.641481Z"
        },
        "trusted": true,
        "id": "Ti1ga5cBWnER"
      },
      "execution_count": null,
      "outputs": []
    },
    {
      "cell_type": "markdown",
      "source": [
        "<div style=\"color:black;\n",
        "           display:fill;\n",
        "           border-radius:5px;\n",
        "           background-color:#9FA7BD;\n",
        "           font-size:110%;\n",
        "           font-family:Verdana;\n",
        "           letter-spacing:0.5px\">\n",
        "\n",
        "<h1 style=\"text-align: center;\n",
        "           padding: 10px;\n",
        "              color:black\">\n",
        "\n",
        "Load DataSet\n",
        "</h1>\n",
        "</div>"
      ],
      "metadata": {
        "id": "1-cqgRNhWnES"
      }
    },
    {
      "cell_type": "code",
      "source": [
        "Abnormal_IMAGES = glob.glob('../input/brain-mri-images-for-brain-tumor-detection/yes/*.jpg')\n",
        "Normal_IMAGES = glob.glob('../input/brain-mri-images-for-brain-tumor-detection/no/*.jpg')"
      ],
      "metadata": {
        "execution": {
          "iopub.status.busy": "2024-05-26T21:53:15.643694Z",
          "iopub.execute_input": "2024-05-26T21:53:15.644004Z",
          "iopub.status.idle": "2024-05-26T21:53:15.689532Z",
          "shell.execute_reply.started": "2024-05-26T21:53:15.643974Z",
          "shell.execute_reply": "2024-05-26T21:53:15.688849Z"
        },
        "trusted": true,
        "id": "ebrEZAh1WnEU"
      },
      "execution_count": null,
      "outputs": []
    },
    {
      "cell_type": "code",
      "source": [
        "\n",
        "def load_image(path):\n",
        "    image_list = np.zeros((len(path), 258, 540, 1))\n",
        "    for i, fig in enumerate(path):\n",
        "        img = image.load_img(fig, color_mode='grayscale', target_size=(258, 540))\n",
        "        x = image.img_to_array(img).astype('float32')\n",
        "        #normaliser les vals\n",
        "        x = x / 255.0\n",
        "        image_list[i] = x\n",
        "\n",
        "    return image_list"
      ],
      "metadata": {
        "execution": {
          "iopub.status.busy": "2024-05-26T21:53:15.690866Z",
          "iopub.execute_input": "2024-05-26T21:53:15.691139Z",
          "iopub.status.idle": "2024-05-26T21:53:15.69782Z",
          "shell.execute_reply.started": "2024-05-26T21:53:15.691105Z",
          "shell.execute_reply": "2024-05-26T21:53:15.697003Z"
        },
        "trusted": true,
        "id": "TrqPnkAAWnEV"
      },
      "execution_count": null,
      "outputs": []
    },
    {
      "cell_type": "code",
      "source": [
        "X_normal = load_image(Normal_IMAGES)\n",
        "X_abnormal = load_image(Abnormal_IMAGES)\n",
        "\n",
        "print(X_normal.shape,X_abnormal.shape)"
      ],
      "metadata": {
        "execution": {
          "iopub.status.busy": "2024-05-26T21:53:15.701064Z",
          "iopub.execute_input": "2024-05-26T21:53:15.701403Z",
          "iopub.status.idle": "2024-05-26T21:53:17.058315Z",
          "shell.execute_reply.started": "2024-05-26T21:53:15.701372Z",
          "shell.execute_reply": "2024-05-26T21:53:17.057391Z"
        },
        "trusted": true,
        "id": "Wlfu9DQxWnEW"
      },
      "execution_count": null,
      "outputs": []
    },
    {
      "cell_type": "code",
      "source": [
        "def plot_sample(X_normal,chaine,num_samples = 5 ):\n",
        "    # Créer des sous-graphes pour afficher des échantillons d'images normales\n",
        "    fig, axes = plt.subplots(1, num_samples, figsize=(30, 5))\n",
        "\n",
        "    # Afficher des exemples d'images normales\n",
        "    for i in range(num_samples):\n",
        "        axes[i].imshow(X_normal[i].squeeze(), cmap='gray')  # Utiliser squeeze() pour supprimer dimension 1 suplmentaire\n",
        "        axes[i].axis('off')  # Masquer les axes\n",
        "        axes[i].set_title(chaine)\n",
        "    plt.show()"
      ],
      "metadata": {
        "execution": {
          "iopub.status.busy": "2024-05-26T21:53:17.060874Z",
          "iopub.execute_input": "2024-05-26T21:53:17.061176Z",
          "iopub.status.idle": "2024-05-26T21:53:17.067887Z",
          "shell.execute_reply.started": "2024-05-26T21:53:17.061145Z",
          "shell.execute_reply": "2024-05-26T21:53:17.067071Z"
        },
        "trusted": true,
        "id": "l7cLAuy4WnEX"
      },
      "execution_count": null,
      "outputs": []
    },
    {
      "cell_type": "code",
      "source": [
        "plot_sample(X_abnormal,\"abnormal\")\n",
        "plot_sample(X_normal,\"normal\")"
      ],
      "metadata": {
        "execution": {
          "iopub.status.busy": "2024-05-26T21:53:17.069091Z",
          "iopub.execute_input": "2024-05-26T21:53:17.069417Z",
          "iopub.status.idle": "2024-05-26T21:53:17.765951Z",
          "shell.execute_reply.started": "2024-05-26T21:53:17.069368Z",
          "shell.execute_reply": "2024-05-26T21:53:17.765121Z"
        },
        "trusted": true,
        "id": "wac4xS4wWnEY"
      },
      "execution_count": null,
      "outputs": []
    },
    {
      "cell_type": "markdown",
      "source": [
        "<div style=\"color:black;\n",
        "           display:fill;\n",
        "           border-radius:5px;\n",
        "           background-color:#9FA7BD;\n",
        "           font-size:110%;\n",
        "           font-family:Verdana;\n",
        "           letter-spacing:0.5px\">\n",
        "\n",
        "<h1 style=\"text-align: center;\n",
        "           padding: 10px;\n",
        "              color:black\">\n",
        "\n",
        "Generate Data\n",
        "</h1>\n",
        "</div>"
      ],
      "metadata": {
        "id": "FUxVkNoLWnEZ"
      }
    },
    {
      "cell_type": "code",
      "source": [
        "datagen = ImageDataGenerator(\n",
        "    width_shift_range=0.1,\n",
        "    height_shift_range=0.1,\n",
        "    horizontal_flip=True,\n",
        "    vertical_flip=True\n",
        ")\n",
        "\n",
        "\n",
        "def augment_images(data, labels, augmentations=10):\n",
        "    augmented_data = []\n",
        "    augmented_labels = []\n",
        "    for i in range(augmentations):\n",
        "        for x, y in zip(data, labels):\n",
        "            augmented_image = datagen.random_transform(x)  # Appliquer une transformation aléatoire\n",
        "            augmented_data.append(augmented_image)\n",
        "            augmented_labels.append(y)\n",
        "    return np.array(augmented_data), np.array(augmented_labels)"
      ],
      "metadata": {
        "execution": {
          "iopub.status.busy": "2024-05-26T21:53:17.767217Z",
          "iopub.execute_input": "2024-05-26T21:53:17.767525Z",
          "iopub.status.idle": "2024-05-26T21:53:17.775812Z",
          "shell.execute_reply.started": "2024-05-26T21:53:17.767496Z",
          "shell.execute_reply": "2024-05-26T21:53:17.774867Z"
        },
        "trusted": true,
        "id": "TDdBURpBWnEZ"
      },
      "execution_count": null,
      "outputs": []
    },
    {
      "cell_type": "code",
      "source": [
        "X_normal_augmented, y_normal_augmented = augment_images(X_normal, [1] * len(X_normal))\n",
        "X_abnormal_augmented, y_abnormal_augmented = augment_images(X_abnormal, [0] * len(X_abnormal))\n",
        "\n",
        "print(X_normal_augmented.shape,y_normal_augmented.shape,X_abnormal_augmented.shape)"
      ],
      "metadata": {
        "execution": {
          "iopub.status.busy": "2024-05-26T21:53:17.777252Z",
          "iopub.execute_input": "2024-05-26T21:53:17.7777Z",
          "iopub.status.idle": "2024-05-26T21:53:33.728929Z",
          "shell.execute_reply.started": "2024-05-26T21:53:17.777656Z",
          "shell.execute_reply": "2024-05-26T21:53:33.727838Z"
        },
        "trusted": true,
        "id": "072nXLeVWnEa"
      },
      "execution_count": null,
      "outputs": []
    },
    {
      "cell_type": "code",
      "source": [
        "plot_sample(X_normal_augmented,\"normal\",10)"
      ],
      "metadata": {
        "execution": {
          "iopub.status.busy": "2024-05-26T21:53:33.730449Z",
          "iopub.execute_input": "2024-05-26T21:53:33.730767Z",
          "iopub.status.idle": "2024-05-26T21:53:34.372396Z",
          "shell.execute_reply.started": "2024-05-26T21:53:33.730735Z",
          "shell.execute_reply": "2024-05-26T21:53:34.371507Z"
        },
        "trusted": true,
        "id": "zTnmIBo5WnEa"
      },
      "execution_count": null,
      "outputs": []
    },
    {
      "cell_type": "markdown",
      "source": [
        "<div style=\"color:black;\n",
        "           display:fill;\n",
        "           border-radius:5px;\n",
        "           background-color:#9FA7BD;\n",
        "           font-size:110%;\n",
        "           font-family:Verdana;\n",
        "           letter-spacing:0.5px\">\n",
        "\n",
        "<h1 style=\"text-align: center;\n",
        "           padding: 10px;\n",
        "              color:black\">\n",
        "\n",
        "Split Data\n",
        "</h1>\n",
        "</div>"
      ],
      "metadata": {
        "id": "p-yTkMaXWnEa"
      }
    },
    {
      "cell_type": "code",
      "source": [
        "X_normal_train, X_normal_test = train_test_split(X_normal_augmented, test_size=0.2, random_state=42)\n",
        "X_abnormal_train, X_abnormal_test= train_test_split(X_abnormal_augmented, test_size=0.2, random_state=42)\n",
        "\n",
        "print(X_normal_train.shape, X_normal_test.shape, X_abnormal_train.shape, X_abnormal_test.shape)"
      ],
      "metadata": {
        "execution": {
          "iopub.status.busy": "2024-05-26T21:53:34.373911Z",
          "iopub.execute_input": "2024-05-26T21:53:34.374221Z",
          "iopub.status.idle": "2024-05-26T21:53:34.92961Z",
          "shell.execute_reply.started": "2024-05-26T21:53:34.37419Z",
          "shell.execute_reply": "2024-05-26T21:53:34.928368Z"
        },
        "trusted": true,
        "id": "pRV31EmiWnEb"
      },
      "execution_count": null,
      "outputs": []
    },
    {
      "cell_type": "markdown",
      "source": [
        "<div style=\"color:black;\n",
        "           display:fill;\n",
        "           border-radius:5px;\n",
        "           background-color:#9FA7BD;\n",
        "           font-size:110%;\n",
        "           font-family:Verdana;\n",
        "           letter-spacing:0.5px\">\n",
        "\n",
        "<h1 style=\"text-align: center;\n",
        "           padding: 10px;\n",
        "              color:black\">\n",
        "\n",
        "Create Autoencoder Class\n",
        "</h1>\n",
        "</div>"
      ],
      "metadata": {
        "id": "xIjTHNqxWnEb"
      }
    },
    {
      "cell_type": "markdown",
      "source": [
        "![Company Insight Funnel Graph in indigo purple lilac Clean Minimal Style.png](attachment:4c1c3565-e892-4b00-aa92-aaa5c3cacd11.png)"
      ],
      "metadata": {
        "id": "aYPfXw-8WnEb"
      }
    },
    {
      "cell_type": "code",
      "source": [
        "class Autoencoder():\n",
        "    def __init__(self):\n",
        "\n",
        "        self.img_shape = (258, 540, 1)\n",
        "        optimizer = Adam(lr=0.0005)\n",
        "        self.autoencoder_model = self.build_model()\n",
        "        self.autoencoder_model.compile(loss='mse', optimizer=optimizer)\n",
        "        self.autoencoder_model.summary()\n",
        "\n",
        "    def build_model(self):\n",
        "        input_layer = Input(shape=self.img_shape)\n",
        "\n",
        "         # Encoder\n",
        "        h = Conv2D(64, (3, 3), activation='relu', padding='same')(input_layer)\n",
        "        h = BatchNormalization()(h)\n",
        "        h = Dropout(0.02)(h)\n",
        "\n",
        "        h = Conv2D(32, (3, 3), activation='relu', padding='same')(h)\n",
        "        h = Dropout(0.02)(h)\n",
        "        h = MaxPooling2D((2, 2), padding='same')(h)\n",
        "\n",
        "        h = Conv2D(16, (3, 3), activation='relu', padding='same')(h)\n",
        "        h = BatchNormalization()(h)\n",
        "        h = MaxPooling2D((2, 2), padding='same')(h)  # Réduction de dimension\n",
        "\n",
        "        h = Conv2D(8, (3, 3), activation='relu', padding='same')(h)\n",
        "        h = MaxPooling2D((2, 2), padding='same')(h)\n",
        "\n",
        "\n",
        "        h = Conv2D(4, (3, 3), activation='relu', padding='same')(h)\n",
        "        h = BatchNormalization()(h)\n",
        "        h = MaxPooling2D((2, 2), padding='same')(h)\n",
        "\n",
        "        # Decoder\n",
        "\n",
        "        h = Conv2D(8, (3, 3), activation='relu', padding='same')(h)\n",
        "        h = UpSampling2D((2, 2))(h)\n",
        "        h = Cropping2D(cropping=((1, 0), (0, 0)))(h)\n",
        "\n",
        "        h = Conv2D(16, (3, 3), activation='relu', padding='same')(h)\n",
        "        h = BatchNormalization()(h)\n",
        "        h = UpSampling2D((2, 2))(h)  # Upsampling pour revenir à la dimension précédente\n",
        "        h = Cropping2D(cropping=((1, 0), (1, 0)))(h)\n",
        "\n",
        "        h = Conv2D(32, (3, 3), activation='relu', padding='same')(h)\n",
        "        h = UpSampling2D((2, 2))(h)\n",
        "        h = Dropout(0.02)(h)\n",
        "        h = Cropping2D(cropping=((1, 0), (0, 0)))(h)\n",
        "\n",
        "\n",
        "        h = Conv2D(64, (3, 3), activation='relu', padding='same')(h)\n",
        "        h = BatchNormalization()(h)\n",
        "        h = UpSampling2D((2, 2))(h)\n",
        "        h = Dropout(0.02)(h)\n",
        "\n",
        "        output_layer = Conv2D(1, (3, 3), activation='sigmoid', padding='same')(h)\n",
        "        return Model(input_layer, output_layer)\n",
        "\n",
        "    def train_model(self, x_train, y_train, x_val, y_val, epochs, batch_size=20):\n",
        "\n",
        "        early_stopping = EarlyStopping(monitor='val_loss',\n",
        "                                       min_delta=0,\n",
        "                                       patience=5,  # Arrêt après 5 epochs sans amélioration\n",
        "                                       verbose=1,\n",
        "                                       mode='auto')\n",
        "\n",
        "        history = self.autoencoder_model.fit(x_train, y_train,\n",
        "                                             batch_size=batch_size,\n",
        "                                             epochs=epochs,\n",
        "                                             validation_data=(x_val, y_val),\n",
        "                                             callbacks=[early_stopping])\n",
        "\n",
        "        plt.figure(figsize=(10, 5))\n",
        "        plt.plot(history.history['loss'])\n",
        "        plt.plot(history.history['val_loss'])\n",
        "        plt.title('Model loss')\n",
        "        plt.ylabel('Loss')\n",
        "        plt.xlabel('Epoch')\n",
        "        plt.legend(['Train', 'Test'], loc='upper left')\n",
        "        plt.show()\n",
        "\n",
        "\n",
        "    def eval_model(self, x_test):\n",
        "\n",
        "        preds = self.autoencoder_model.predict(x_test)\n",
        "        return preds"
      ],
      "metadata": {
        "execution": {
          "iopub.status.busy": "2024-05-26T21:53:34.930976Z",
          "iopub.execute_input": "2024-05-26T21:53:34.931474Z",
          "iopub.status.idle": "2024-05-26T21:53:34.963884Z",
          "shell.execute_reply.started": "2024-05-26T21:53:34.931431Z",
          "shell.execute_reply": "2024-05-26T21:53:34.96296Z"
        },
        "trusted": true,
        "id": "vv625iQdWnEc"
      },
      "execution_count": null,
      "outputs": []
    },
    {
      "cell_type": "markdown",
      "source": [
        "<div style=\"color:black;\n",
        "           display:fill;\n",
        "           border-radius:5px;\n",
        "           background-color:#9FA7BD;\n",
        "           font-size:110%;\n",
        "           font-family:Verdana;\n",
        "           letter-spacing:0.5px\">\n",
        "\n",
        "<h1 style=\"text-align: center;\n",
        "           padding: 10px;\n",
        "              color:black\">\n",
        "\n",
        "Train model\n",
        "</h1>\n",
        "</div>"
      ],
      "metadata": {
        "id": "Dgm0DNTdWnEc"
      }
    },
    {
      "cell_type": "code",
      "source": [
        "ae = Autoencoder()\n",
        "ae.train_model(X_normal_train, X_normal_train, X_normal_test, X_normal_test, epochs=100, batch_size=10)"
      ],
      "metadata": {
        "execution": {
          "iopub.status.busy": "2024-05-26T21:53:34.965145Z",
          "iopub.execute_input": "2024-05-26T21:53:34.965495Z",
          "iopub.status.idle": "2024-05-26T22:00:13.115706Z",
          "shell.execute_reply.started": "2024-05-26T21:53:34.965463Z",
          "shell.execute_reply": "2024-05-26T22:00:13.114837Z"
        },
        "trusted": true,
        "id": "8jjB_h5sWnEd"
      },
      "execution_count": null,
      "outputs": []
    },
    {
      "cell_type": "markdown",
      "source": [
        "<div style=\"color:black;\n",
        "           display:fill;\n",
        "           border-radius:5px;\n",
        "           background-color:#9FA7BD;\n",
        "           font-size:110%;\n",
        "           font-family:Verdana;\n",
        "           letter-spacing:0.5px\">\n",
        "\n",
        "<h1 style=\"text-align: center;\n",
        "           padding: 10px;\n",
        "              color:black\">\n",
        "\n",
        "Reconstractions\n",
        "</h1>\n",
        "</div>"
      ],
      "metadata": {
        "id": "9tOpPwoWWnEd"
      }
    },
    {
      "cell_type": "code",
      "source": [
        "def plot_difference(pred, real):\n",
        "    diff = np.abs(pred - real)  # la difference (posetive)\n",
        "\n",
        "    plt.figure(figsize=(15, 5))\n",
        "\n",
        "    # Image prédite\n",
        "    plt.subplot(1, 3, 1)\n",
        "    plt.imshow(pred, cmap='gray')\n",
        "    plt.title(\"Image Prédite\")\n",
        "    plt.axis('off')\n",
        "\n",
        "    # Image réelle\n",
        "    plt.subplot(1, 3, 2)\n",
        "    plt.imshow(real, cmap='gray')\n",
        "    plt.title(\"Image Réelle\")\n",
        "    plt.axis('off')\n",
        "\n",
        "    # Image de la différence\n",
        "    plt.subplot(1, 3, 3)\n",
        "    plt.imshow(diff, cmap='hot')  # Utilisez une carte de chaleur pour visualiser les différences\n",
        "    plt.title(\"Différence\")\n",
        "    plt.axis('off')\n",
        "\n",
        "    plt.show()"
      ],
      "metadata": {
        "execution": {
          "iopub.status.busy": "2024-05-26T22:00:13.117211Z",
          "iopub.execute_input": "2024-05-26T22:00:13.117519Z",
          "iopub.status.idle": "2024-05-26T22:00:13.127396Z",
          "shell.execute_reply.started": "2024-05-26T22:00:13.117487Z",
          "shell.execute_reply": "2024-05-26T22:00:13.126533Z"
        },
        "trusted": true,
        "id": "hkIyHBGaWnEd"
      },
      "execution_count": null,
      "outputs": []
    },
    {
      "cell_type": "code",
      "source": [
        "preds_normal = ae.eval_model(X_normal_test)\n",
        "preds_abnormal = ae.eval_model(X_abnormal_test)"
      ],
      "metadata": {
        "execution": {
          "iopub.status.busy": "2024-05-26T22:00:13.128695Z",
          "iopub.execute_input": "2024-05-26T22:00:13.128968Z",
          "iopub.status.idle": "2024-05-26T22:00:16.834877Z",
          "shell.execute_reply.started": "2024-05-26T22:00:13.128941Z",
          "shell.execute_reply": "2024-05-26T22:00:16.834053Z"
        },
        "trusted": true,
        "id": "wstw8-C0WnEe"
      },
      "execution_count": null,
      "outputs": []
    },
    {
      "cell_type": "code",
      "source": [
        "for i in range(5):\n",
        "    pred_normal = preds_normal[i*2] * 255.0\n",
        "    pred_normal = pred_normal.reshape(258, 540)\n",
        "    real_normal = X_normal_test[i*2] * 255.0\n",
        "    real_normal = real_normal.reshape(258, 540)\n",
        "\n",
        "    plot_difference(pred_normal,real_normal)"
      ],
      "metadata": {
        "execution": {
          "iopub.status.busy": "2024-05-26T22:00:16.836116Z",
          "iopub.execute_input": "2024-05-26T22:00:16.83644Z",
          "iopub.status.idle": "2024-05-26T22:00:17.806819Z",
          "shell.execute_reply.started": "2024-05-26T22:00:16.83641Z",
          "shell.execute_reply": "2024-05-26T22:00:17.805749Z"
        },
        "trusted": true,
        "id": "BkicDfaGWnEe"
      },
      "execution_count": null,
      "outputs": []
    },
    {
      "cell_type": "code",
      "source": [
        "for i in range(5):\n",
        "    pred_abnormal = preds_abnormal[i*2] * 255.0\n",
        "    pred_abnormal = pred_abnormal.reshape(258, 540)\n",
        "    real_abnormal = X_abnormal_test[i*2] * 255.0\n",
        "    real_abnormal = real_abnormal.reshape(258, 540)\n",
        "\n",
        "    plot_difference(pred_abnormal,real_abnormal)"
      ],
      "metadata": {
        "execution": {
          "iopub.status.busy": "2024-05-26T22:00:17.808403Z",
          "iopub.execute_input": "2024-05-26T22:00:17.808796Z",
          "iopub.status.idle": "2024-05-26T22:00:19.073085Z",
          "shell.execute_reply.started": "2024-05-26T22:00:17.808748Z",
          "shell.execute_reply": "2024-05-26T22:00:19.071994Z"
        },
        "trusted": true,
        "id": "0YKXm7yKWnEe"
      },
      "execution_count": null,
      "outputs": []
    },
    {
      "cell_type": "markdown",
      "source": [
        "<div style=\"color:black;\n",
        "           display:fill;\n",
        "           border-radius:5px;\n",
        "           background-color:#9FA7BD;\n",
        "           font-size:110%;\n",
        "           font-family:Verdana;\n",
        "           letter-spacing:0.5px\">\n",
        "\n",
        "<h1 style=\"text-align: center;\n",
        "           padding: 10px;\n",
        "              color:black\">\n",
        "\n",
        "Prepare Test data\n",
        "</h1>\n",
        "</div>"
      ],
      "metadata": {
        "id": "oFB6ZhYhWnEe"
      }
    },
    {
      "cell_type": "code",
      "source": [
        "X_test = np.concatenate([X_normal_test, X_abnormal_test], axis=0)\n",
        "X_test.shape"
      ],
      "metadata": {
        "execution": {
          "iopub.status.busy": "2024-05-26T22:00:19.074661Z",
          "iopub.execute_input": "2024-05-26T22:00:19.075095Z",
          "iopub.status.idle": "2024-05-26T22:00:19.220774Z",
          "shell.execute_reply.started": "2024-05-26T22:00:19.075051Z",
          "shell.execute_reply": "2024-05-26T22:00:19.219541Z"
        },
        "trusted": true,
        "id": "DayISSyQWnEf"
      },
      "execution_count": null,
      "outputs": []
    },
    {
      "cell_type": "code",
      "source": [
        "normal_test_labels=[]\n",
        "for i in range(X_normal_test.shape[0]):\n",
        "    normal_test_labels.append(True)\n",
        "\n",
        "abnormal_test_labels=[]\n",
        "for i in range(X_abnormal_test.shape[0]):\n",
        "    abnormal_test_labels.append(False)\n",
        "\n",
        "labels_test= normal_test_labels +abnormal_test_labels\n",
        "label_test = np.array(labels_test)\n",
        "label_test.shape"
      ],
      "metadata": {
        "execution": {
          "iopub.status.busy": "2024-05-26T22:00:19.222177Z",
          "iopub.execute_input": "2024-05-26T22:00:19.222499Z",
          "iopub.status.idle": "2024-05-26T22:00:19.231781Z",
          "shell.execute_reply.started": "2024-05-26T22:00:19.222469Z",
          "shell.execute_reply": "2024-05-26T22:00:19.230626Z"
        },
        "trusted": true,
        "id": "Ne8WVhF1WnEf"
      },
      "execution_count": null,
      "outputs": []
    },
    {
      "cell_type": "markdown",
      "source": [
        "<div style=\"color:black;\n",
        "           display:fill;\n",
        "           border-radius:5px;\n",
        "           background-color:#9FA7BD;\n",
        "           font-size:110%;\n",
        "           font-family:Verdana;\n",
        "           letter-spacing:0.5px\">\n",
        "\n",
        "<h1 style=\"text-align: center;\n",
        "           padding: 10px;\n",
        "              color:black\">\n",
        "\n",
        "Create Threshold\n",
        "</h1>\n",
        "</div>"
      ],
      "metadata": {
        "id": "IuauHlkQWnEf"
      }
    },
    {
      "cell_type": "code",
      "source": [
        "def print_stats(predictions, labels):\n",
        "    print(\"Accuracy = {}\".format(accuracy_score(labels, predictions)))\n",
        "    print(\"Precision = {}\".format(precision_score(labels, predictions)))\n",
        "    print(\"Recall = {}\".format(recall_score(labels, predictions)))\n",
        "    print(\"F1 score = {}\".format(f1_score(labels, predictions)))\n"
      ],
      "metadata": {
        "execution": {
          "iopub.status.busy": "2024-05-26T22:00:19.233567Z",
          "iopub.execute_input": "2024-05-26T22:00:19.234004Z",
          "iopub.status.idle": "2024-05-26T22:00:19.242749Z",
          "shell.execute_reply.started": "2024-05-26T22:00:19.233959Z",
          "shell.execute_reply": "2024-05-26T22:00:19.241741Z"
        },
        "trusted": true,
        "id": "dlefQ6amWnEg"
      },
      "execution_count": null,
      "outputs": []
    },
    {
      "cell_type": "code",
      "source": [
        "reconstructions = ae.eval_model(X_normal_train)\n",
        "train_loss = tf.keras.losses.mae(reconstructions, X_normal_train)\n",
        "mean = np.mean(train_loss)\n",
        "std = np.std(train_loss)\n",
        "mean"
      ],
      "metadata": {
        "execution": {
          "iopub.status.busy": "2024-05-26T22:00:19.244546Z",
          "iopub.execute_input": "2024-05-26T22:00:19.244933Z",
          "iopub.status.idle": "2024-05-26T22:00:26.27615Z",
          "shell.execute_reply.started": "2024-05-26T22:00:19.244894Z",
          "shell.execute_reply": "2024-05-26T22:00:26.275157Z"
        },
        "trusted": true,
        "id": "KnF7D31DWnEg"
      },
      "execution_count": null,
      "outputs": []
    },
    {
      "cell_type": "code",
      "source": [
        "def predict(model, data, threshold):\n",
        "    # générer des reconstructions\n",
        "    reconstructions = model.eval_model(data)\n",
        "\n",
        "    # Calculer mean abslut error\n",
        "    loss = tf.keras.losses.mae(reconstructions, data)\n",
        "\n",
        "    # Convertir la perte en un seul nombre pour chaque image, plutôt qu'une valeur par pixel\n",
        "    image_losses = tfp.stats.percentile(loss, q=75, axis=[1, 2]) #puisque en generale la meme forme de irm\n",
        "    #image_losses = tf.reduce_mean(loss, axis=[1, 2])\n",
        "\n",
        "    return tf.math.less(image_losses, threshold).numpy()  #true si imageloss < threshold\n"
      ],
      "metadata": {
        "execution": {
          "iopub.status.busy": "2024-05-26T22:00:26.277507Z",
          "iopub.execute_input": "2024-05-26T22:00:26.277854Z",
          "iopub.status.idle": "2024-05-26T22:00:26.284041Z",
          "shell.execute_reply.started": "2024-05-26T22:00:26.277823Z",
          "shell.execute_reply": "2024-05-26T22:00:26.282982Z"
        },
        "trusted": true,
        "id": "4El3MIzCWnEh"
      },
      "execution_count": null,
      "outputs": []
    },
    {
      "cell_type": "code",
      "source": [
        "for i in range(20):\n",
        "    factor = i/10  # Exemple de facteur\n",
        "    threshold_multiple_std = mean + factor * std # Seuil basé sur la moyenne et un multiple d'écart-type\n",
        "    print(\"Threshold (Mean +\"+str(i)+\"/10 * Std Dev):\", threshold_multiple_std)\n",
        "    preds_std = predict(ae, X_test, threshold_multiple_std)\n",
        "    print_stats(preds_std, label_test)"
      ],
      "metadata": {
        "execution": {
          "iopub.status.busy": "2024-05-26T22:00:26.285582Z",
          "iopub.execute_input": "2024-05-26T22:00:26.28594Z",
          "iopub.status.idle": "2024-05-26T22:01:32.262663Z",
          "shell.execute_reply.started": "2024-05-26T22:00:26.285903Z",
          "shell.execute_reply": "2024-05-26T22:01:32.261823Z"
        },
        "trusted": true,
        "id": "ZWntQHAzWnEh"
      },
      "execution_count": null,
      "outputs": []
    },
    {
      "cell_type": "markdown",
      "source": [
        "\n",
        "In the context of brain tumor detection, it's crucial to have high recall to ensure that as many positive cases as possible are detected, even if it leads to some false positives.\n",
        "\n",
        "-> We choose de use Threshold (Mean +4/10 * Std Dev): 0.08079895495906178\n",
        "* Accuracy = 0.6432748538011696\n",
        "* Precision = 0.6111111111111112\n",
        "* Recall = 0.7764705882352941\n",
        "* F1 score = 0.683937823834197"
      ],
      "metadata": {
        "id": "XY1yrotOWnEh"
      }
    },
    {
      "cell_type": "code",
      "source": [
        "threshold = mean + (4/10) * std\n",
        "threshold"
      ],
      "metadata": {
        "execution": {
          "iopub.status.busy": "2024-05-26T22:01:32.263978Z",
          "iopub.execute_input": "2024-05-26T22:01:32.264292Z",
          "iopub.status.idle": "2024-05-26T22:01:32.269955Z",
          "shell.execute_reply.started": "2024-05-26T22:01:32.264252Z",
          "shell.execute_reply": "2024-05-26T22:01:32.2691Z"
        },
        "trusted": true,
        "id": "YgTgqE6cWnEi"
      },
      "execution_count": null,
      "outputs": []
    },
    {
      "cell_type": "code",
      "source": [
        "preds_std = predict(ae, X_test, threshold)\n",
        "print_stats(preds_std, label_test)"
      ],
      "metadata": {
        "execution": {
          "iopub.status.busy": "2024-05-26T22:01:32.271188Z",
          "iopub.execute_input": "2024-05-26T22:01:32.271493Z",
          "iopub.status.idle": "2024-05-26T22:01:35.539379Z",
          "shell.execute_reply.started": "2024-05-26T22:01:32.271458Z",
          "shell.execute_reply": "2024-05-26T22:01:35.538569Z"
        },
        "trusted": true,
        "id": "GbTftWBDWnEi"
      },
      "execution_count": null,
      "outputs": []
    },
    {
      "cell_type": "markdown",
      "source": [
        "<div style=\"color:black;\n",
        "           display:fill;\n",
        "           border-radius:5px;\n",
        "           background-color:#9FA7BD;\n",
        "           font-size:110%;\n",
        "           font-family:Verdana;\n",
        "           letter-spacing:0.5px\">\n",
        "\n",
        "<h1 style=\"text-align: center;\n",
        "           padding: 10px;\n",
        "              color:black\">\n",
        "\n",
        "Predictions\n",
        "</h1>\n",
        "</div>"
      ],
      "metadata": {
        "id": "jdTPWHC3WnEi"
      }
    },
    {
      "cell_type": "code",
      "source": [
        "plt.imshow(np.squeeze(X_test[9]* 255.0), cmap='gray')  # Afficher l'image réelle normale\n",
        "plt.title(\"Image Réelle\")\n",
        "plt.axis('off')\n",
        "\n",
        "preds_mad = predict(ae, X_test[9:10], threshold)\n",
        "preds_mad"
      ],
      "metadata": {
        "execution": {
          "iopub.status.busy": "2024-05-26T22:02:11.655049Z",
          "iopub.execute_input": "2024-05-26T22:02:11.655452Z",
          "iopub.status.idle": "2024-05-26T22:02:12.0009Z",
          "shell.execute_reply.started": "2024-05-26T22:02:11.655419Z",
          "shell.execute_reply": "2024-05-26T22:02:11.999862Z"
        },
        "trusted": true,
        "id": "KM_-ZlhCWnEt"
      },
      "execution_count": null,
      "outputs": []
    },
    {
      "cell_type": "code",
      "source": [
        "plt.imshow(np.squeeze(X_test[202]* 255.0), cmap='gray')  # Afficher l'image réelle\n",
        "plt.title(\"Image Réelle\")\n",
        "plt.axis('off')\n",
        "\n",
        "preds_mad = predict(ae, X_test[202:203], threshold)\n",
        "preds_mad"
      ],
      "metadata": {
        "execution": {
          "iopub.status.busy": "2024-05-26T22:03:40.119126Z",
          "iopub.execute_input": "2024-05-26T22:03:40.119543Z",
          "iopub.status.idle": "2024-05-26T22:03:40.272291Z",
          "shell.execute_reply.started": "2024-05-26T22:03:40.119501Z",
          "shell.execute_reply": "2024-05-26T22:03:40.271372Z"
        },
        "trusted": true,
        "id": "GBNv8B5RWnEt"
      },
      "execution_count": null,
      "outputs": []
    }
  ]
}